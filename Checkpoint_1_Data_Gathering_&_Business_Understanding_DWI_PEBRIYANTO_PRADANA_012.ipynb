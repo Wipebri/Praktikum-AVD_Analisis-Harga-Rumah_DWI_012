{
  "nbformat": 4,
  "nbformat_minor": 0,
  "metadata": {
    "colab": {
      "provenance": []
    },
    "kernelspec": {
      "name": "python3",
      "display_name": "Python 3"
    },
    "language_info": {
      "name": "python"
    }
  },
  "cells": [
    {
      "cell_type": "markdown",
      "source": [
        "# **BUSINESS UNDERSTANDING**"
      ],
      "metadata": {
        "id": "T7UY9QUSt_I4"
      }
    },
    {
      "cell_type": "markdown",
      "source": [
        "## **Bussiness Objective**"
      ],
      "metadata": {
        "id": "UA269F2puViL"
      }
    },
    {
      "cell_type": "markdown",
      "source": [
        "Tujuan utama proyek ini adalah menganalisis harga rumah berdasarkan faktor-faktor tertentu. faktor-faktor tersebut meliputi luas area, banyak kamar tidur, banyak kamar mandi, tingkat, letaknya dengan jalan raya, ruang tamu, basement dan fasilitas yang ada. analisis ini untuk membantu pembeli dalam memilih rumah dengan harga yang wajar dan membantu seorang penjual rumah dalam menentukan harga rumah yang akan dijual.\n"
      ],
      "metadata": {
        "id": "d8UMyvbBuuHd"
      }
    },
    {
      "cell_type": "markdown",
      "source": [
        "## **Assess Situation**"
      ],
      "metadata": {
        "id": "kNPCSQK2C5LB"
      }
    },
    {
      "cell_type": "markdown",
      "source": [
        "Situasi bisnis yang mendasari analisis ini untuk membantu pembeli rumah dalam menentukan apakah harga yang ditawarkan penjual kepadanya sesuai dengan harga pasar, dan memberikan data nyata untuk menambah keyakinan dalam memberi rumah. sedangkan bagi penjual, prediksi harga membantu menetapkan harga yang kompetitif berdasarkan tren pasar dan dapat meminimalisir kerugian dalam menjual rumah. Dengan adanya prediksi harga yang akurat, pasar properti menjadi lebih transparan dan efisien, mengurangi spekulasi berlebihan, serta menciptakan harga yang lebih adil."
      ],
      "metadata": {
        "id": "NcWC93bPC_Rj"
      }
    },
    {
      "cell_type": "markdown",
      "source": [
        "## **Data Mining Goals**\n",
        "Memprediksi harga rumah berdasarkan fitur yang tersedia dalam dataset, memahami faktor utama yang berpengaruh terhadap harga rumah, Menyediakan wawasan bagi pengguna untuk pengambilan keputusan membeli atau menjual rumah dengan fasilitas dasilitas yang ada."
      ],
      "metadata": {
        "id": "FADja-CdQy6a"
      }
    },
    {
      "cell_type": "markdown",
      "source": [
        "## **Project Plan**\n",
        "1. mengumpulkan dan menyiapkan data\n",
        "2. membersihkan data\n",
        "3. menganalisis korelasi antara fitur dengan harga rumah.\n",
        "4. mencari faktor yang sangat berpengaruh terhadap harga rumah.\n",
        "5. Menyajikan hasil dalam bentuk dashboard atau laporan analitik."
      ],
      "metadata": {
        "id": "QJ3BO1ODSFFD"
      }
    }
  ]
}